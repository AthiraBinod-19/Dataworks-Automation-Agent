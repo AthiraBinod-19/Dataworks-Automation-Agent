{
  "nbformat": 4,
  "nbformat_minor": 0,
  "metadata": {
    "colab": {
      "provenance": [],
      "authorship_tag": "ABX9TyP3iaYmlFlMDr/bQKtaoGh6",
      "include_colab_link": true
    },
    "kernelspec": {
      "name": "python3",
      "display_name": "Python 3"
    },
    "language_info": {
      "name": "python"
    }
  },
  "cells": [
    {
      "cell_type": "markdown",
      "metadata": {
        "id": "view-in-github",
        "colab_type": "text"
      },
      "source": [
        "<a href=\"https://colab.research.google.com/github/AthiraBinod-19/Dataworks-Automation-Agent/blob/main/BA_Assignment_1.ipynb\" target=\"_parent\"><img src=\"https://colab.research.google.com/assets/colab-badge.svg\" alt=\"Open In Colab\"/></a>"
      ]
    },
    {
      "cell_type": "code",
      "execution_count": 1,
      "metadata": {
        "id": "6eSbDYT3YK2b"
      },
      "outputs": [],
      "source": [
        "import pandas as pd\n",
        "import numpy as np\n"
      ]
    },
    {
      "cell_type": "code",
      "source": [
        "!pip install requests\n"
      ],
      "metadata": {
        "colab": {
          "base_uri": "https://localhost:8080/"
        },
        "id": "F1jPUmi7YywY",
        "outputId": "bc07ffcc-a153-45dc-dd65-b56c712b4adb"
      },
      "execution_count": 2,
      "outputs": [
        {
          "output_type": "stream",
          "name": "stdout",
          "text": [
            "Requirement already satisfied: requests in /usr/local/lib/python3.11/dist-packages (2.32.3)\n",
            "Requirement already satisfied: charset-normalizer<4,>=2 in /usr/local/lib/python3.11/dist-packages (from requests) (3.4.1)\n",
            "Requirement already satisfied: idna<4,>=2.5 in /usr/local/lib/python3.11/dist-packages (from requests) (3.10)\n",
            "Requirement already satisfied: urllib3<3,>=1.21.1 in /usr/local/lib/python3.11/dist-packages (from requests) (2.3.0)\n",
            "Requirement already satisfied: certifi>=2017.4.17 in /usr/local/lib/python3.11/dist-packages (from requests) (2025.1.31)\n"
          ]
        }
      ]
    },
    {
      "cell_type": "code",
      "source": [
        "import requests\n",
        "\n",
        "# Google Drive file ID from the provided URL\n",
        "file_id = '18_x30cHk77okd1ssPMx7qG-o3oDVE-E8'\n",
        "\n",
        "# Construct the direct download URL\n",
        "url = f'https://drive.google.com/uc?export=download&id={file_id}'\n",
        "\n",
        "# Send the request to download the file\n",
        "response = requests.get(url)\n",
        "\n",
        "# Save the content to a file in Colab\n",
        "file_path = '/content/GOF.xlsx'\n",
        "with open(file_path, 'wb') as f:\n",
        "    f.write(response.content)\n",
        "\n",
        "print(\"File downloaded successfully!\")\n"
      ],
      "metadata": {
        "colab": {
          "base_uri": "https://localhost:8080/"
        },
        "id": "wX_PYampdGhD",
        "outputId": "91cda3b7-87c8-411b-f0c7-1082990e8cc8"
      },
      "execution_count": 6,
      "outputs": [
        {
          "output_type": "stream",
          "name": "stdout",
          "text": [
            "File downloaded successfully!\n"
          ]
        }
      ]
    },
    {
      "cell_type": "code",
      "source": [
        "import pandas as pd\n",
        "import matplotlib.pyplot as plt\n",
        "\n",
        "# Load the data from the GOF.xlsx file\n",
        "data = pd.read_excel('/content/GOF.xlsx')\n",
        "\n",
        "# Check if the data contains integer values (discrete) or floats (continuous)\n",
        "is_integer = all(data['obs'].apply(lambda x: float(x).is_integer()))\n",
        "\n",
        "# Plot the histogram\n",
        "plt.figure(figsize=(8, 6))\n",
        "plt.hist(data['obs'], bins=20, edgecolor='black', alpha=0.7)\n",
        "plt.title('Histogram of Observed Scratches (obs)')\n",
        "plt.xlabel('Number of Scratches (obs)')\n",
        "plt.ylabel('Frequency')\n",
        "plt.grid(True)\n",
        "plt.show()\n",
        "\n",
        "# Display summary statistics\n",
        "summary_stats = data['obs'].describe()\n",
        "\n",
        "# Output the conclusions based on the data type\n",
        "print(f\"Summary Statistics:\\n{summary_stats}\")\n",
        "print(f\"\\nIs the data discrete? {'Yes' if is_integer else 'No'}\")\n",
        "\n",
        "if is_integer:\n",
        "    print(\"\\nConclusion: The data follows a discrete distribution.\")\n",
        "else:\n",
        "    print(\"\\nConclusion: The data follows a continuous distribution.\")\n"
      ],
      "metadata": {
        "colab": {
          "base_uri": "https://localhost:8080/",
          "height": 816
        },
        "id": "efIiMG9Qmw2D",
        "outputId": "1c8b9207-a286-4b52-90eb-40c16b8c6ca9"
      },
      "execution_count": 28,
      "outputs": [
        {
          "output_type": "display_data",
          "data": {
            "text/plain": [
              "<Figure size 800x600 with 1 Axes>"
            ],
            "image/png": "[encoded data removed]"
          },
          "metadata": {}
        },
        {
          "output_type": "stream",
          "name": "stdout",
          "text": [
            "Summary Statistics:\n",
            "count    120.000000\n",
            "mean       3.841667\n",
            "std        2.145920\n",
            "min        0.000000\n",
            "25%        2.000000\n",
            "50%        3.000000\n",
            "75%        5.000000\n",
            "max       10.000000\n",
            "Name: obs, dtype: float64\n",
            "\n",
            "Is the data discrete? Yes\n",
            "\n",
            "Conclusion: The data follows a discrete distribution.\n"
          ]
        }
      ]
    },
    {
      "cell_type": "code",
      "source": [
        "import pandas as pd\n",
        "\n",
        "# Load the downloaded Excel file into a pandas DataFrame\n",
        "data = pd.read_excel('/content/GOF.xlsx', engine='openpyxl')\n",
        "\n",
        "# Check the first few rows of the data\n",
        "data.head()\n"
      ],
      "metadata": {
        "colab": {
          "base_uri": "https://localhost:8080/",
          "height": 204
        },
        "id": "MpMKeQdIdLU7",
        "outputId": "5ef5612d-09ab-418f-927a-8e96c71cf281"
      },
      "execution_count": 7,
      "outputs": [
        {
          "output_type": "execute_result",
          "data": {
            "text/plain": [
              "   obs\n",
              "0    4\n",
              "1    3\n",
              "2    8\n",
              "3    7\n",
              "4    4"
            ],
            "text/html": [
              "\n",
              "  <div id=\"df-f6c40ad5-b82f-4166-9d3e-9d47ab71de03\" class=\"colab-df-container\">\n",
              "    <div>\n",
              "<style scoped>\n",
              "    .dataframe tbody tr th:only-of-type {\n",
              "        vertical-align: middle;\n",
              "    }\n",
              "\n",
              "    .dataframe tbody tr th {\n",
              "        vertical-align: top;\n",
              "    }\n",
              "\n",
              "    .dataframe thead th {\n",
              "        text-align: right;\n",
              "    }\n",
              "</style>\n",
              "<table border=\"1\" class=\"dataframe\">\n",
              "  <thead>\n",
              "    <tr style=\"text-align: right;\">\n",
              "      <th></th>\n",
              "      <th>obs</th>\n",
              "    </tr>\n",
              "  </thead>\n",
              "  <tbody>\n",
              "    <tr>\n",
              "      <th>0</th>\n",
              "      <td>4</td>\n",
              "    </tr>\n",
              "    <tr>\n",
              "      <th>1</th>\n",
              "      <td>3</td>\n",
              "    </tr>\n",
              "    <tr>\n",
              "      <th>2</th>\n",
              "      <td>8</td>\n",
              "    </tr>\n",
              "    <tr>\n",
              "      <th>3</th>\n",
              "      <td>7</td>\n",
              "    </tr>\n",
              "    <tr>\n",
              "      <th>4</th>\n",
              "      <td>4</td>\n",
              "    </tr>\n",
              "  </tbody>\n",
              "</table>\n",
              "</div>\n",
              "    <div class=\"colab-df-buttons\">\n",
              "\n",
              "  <div class=\"colab-df-container\">\n",
              "    <button class=\"colab-df-convert\" onclick=\"convertToInteractive('df-f6c40ad5-b82f-4166-9d3e-9d47ab71de03')\"\n",
              "            title=\"Convert this dataframe to an interactive table.\"\n",
              "            style=\"display:none;\">\n",
              "\n",
              "  <svg xmlns=\"http://www.w3.org/2000/svg\" height=\"24px\" viewBox=\"0 -960 960 960\">\n",
              "    <path d=\"M120-120v-720h720v720H120Zm60-500h600v-160H180v160Zm220 220h160v-160H400v160Zm0 220h160v-160H400v160ZM180-400h160v-160H180v160Zm440 0h160v-160H620v160ZM180-180h160v-160H180v160Zm440 0h160v-160H620v160Z\"/>\n",
              "  </svg>\n",
              "    </button>\n",
              "\n",
              "  <style>\n",
              "    .colab-df-container {\n",
              "      display:flex;\n",
              "      gap: 12px;\n",
              "    }\n",
              "\n",
              "    .colab-df-convert {\n",
              "      background-color: #E8F0FE;\n",
              "      border: none;\n",
              "      border-radius: 50%;\n",
              "      cursor: pointer;\n",
              "      display: none;\n",
              "      fill: #1967D2;\n",
              "      height: 32px;\n",
              "      padding: 0 0 0 0;\n",
              "      width: 32px;\n",
              "    }\n",
              "\n",
              "    .colab-df-convert:hover {\n",
              "      background-color: #E2EBFA;\n",
              "      box-shadow: 0px 1px 2px rgba(60, 64, 67, 0.3), 0px 1px 3px 1px rgba(60, 64, 67, 0.15);\n",
              "      fill: #174EA6;\n",
              "    }\n",
              "\n",
              "    .colab-df-buttons div {\n",
              "      margin-bottom: 4px;\n",
              "    }\n",
              "\n",
              "    [theme=dark] .colab-df-convert {\n",
              "      background-color: #3B4455;\n",
              "      fill: #D2E3FC;\n",
              "    }\n",
              "\n",
              "    [theme=dark] .colab-df-convert:hover {\n",
              "      background-color: #434B5C;\n",
              "      box-shadow: 0px 1px 3px 1px rgba(0, 0, 0, 0.15);\n",
              "      filter: drop-shadow(0px 1px 2px rgba(0, 0, 0, 0.3));\n",
              "      fill: #FFFFFF;\n",
              "    }\n",
              "  </style>\n",
              "\n",
              "    <script>\n",
              "      const buttonEl =\n",
              "        document.querySelector('#df-f6c40ad5-b82f-4166-9d3e-9d47ab71de03 button.colab-df-convert');\n",
              "      buttonEl.style.display =\n",
              "        google.colab.kernel.accessAllowed ? 'block' : 'none';\n",
              "\n",
              "      async function convertToInteractive(key) {\n",
              "        const element = document.querySelector('#df-f6c40ad5-b82f-4166-9d3e-9d47ab71de03');\n",
              "        const dataTable =\n",
              "          await google.colab.kernel.invokeFunction('convertToInteractive',\n",
              "                                                    [key], {});\n",
              "        if (!dataTable) return;\n",
              "\n",
              "        const docLinkHtml = 'Like what you see? Visit the ' +\n",
              "          '<a target=\"_blank\" href=https://colab.research.google.com/notebooks/data_table.ipynb>data table notebook</a>'\n",
              "          + ' to learn more about interactive tables.';\n",
              "        element.innerHTML = '';\n",
              "        dataTable['output_type'] = 'display_data';\n",
              "        await google.colab.output.renderOutput(dataTable, element);\n",
              "        const docLink = document.createElement('div');\n",
              "        docLink.innerHTML = docLinkHtml;\n",
              "        element.appendChild(docLink);\n",
              "      }\n",
              "    </script>\n",
              "  </div>\n",
              "\n",
              "\n",
              "<div id=\"df-ccb27b43-9568-4ff3-98ff-a1f859e3416e\">\n",
              "  <button class=\"colab-df-quickchart\" onclick=\"quickchart('df-ccb27b43-9568-4ff3-98ff-a1f859e3416e')\"\n",
              "            title=\"Suggest charts\"\n",
              "            style=\"display:none;\">\n",
              "\n",
              "<svg xmlns=\"http://www.w3.org/2000/svg\" height=\"24px\"viewBox=\"0 0 24 24\"\n",
              "     width=\"24px\">\n",
              "    <g>\n",
              "        <path d=\"M19 3H5c-1.1 0-2 .9-2 2v14c0 1.1.9 2 2 2h14c1.1 0 2-.9 2-2V5c0-1.1-.9-2-2-2zM9 17H7v-7h2v7zm4 0h-2V7h2v10zm4 0h-2v-4h2v4z\"/>\n",
              "    </g>\n",
              "</svg>\n",
              "  </button>\n",
              "\n",
              "<style>\n",
              "  .colab-df-quickchart {\n",
              "      --bg-color: #E8F0FE;\n",
              "      --fill-color: #1967D2;\n",
              "      --hover-bg-color: #E2EBFA;\n",
              "      --hover-fill-color: #174EA6;\n",
              "      --disabled-fill-color: #AAA;\n",
              "      --disabled-bg-color: #DDD;\n",
              "  }\n",
              "\n",
              "  [theme=dark] .colab-df-quickchart {\n",
              "      --bg-color: #3B4455;\n",
              "      --fill-color: #D2E3FC;\n",
              "      --hover-bg-color: #434B5C;\n",
              "      --hover-fill-color: #FFFFFF;\n",
              "      --disabled-bg-color: #3B4455;\n",
              "      --disabled-fill-color: #666;\n",
              "  }\n",
              "\n",
              "  .colab-df-quickchart {\n",
              "    background-color: var(--bg-color);\n",
              "    border: none;\n",
              "    border-radius: 50%;\n",
              "    cursor: pointer;\n",
              "    display: none;\n",
              "    fill: var(--fill-color);\n",
              "    height: 32px;\n",
              "    padding: 0;\n",
              "    width: 32px;\n",
              "  }\n",
              "\n",
              "  .colab-df-quickchart:hover {\n",
              "    background-color: var(--hover-bg-color);\n",
              "    box-shadow: 0 1px 2px rgba(60, 64, 67, 0.3), 0 1px 3px 1px rgba(60, 64, 67, 0.15);\n",
              "    fill: var(--button-hover-fill-color);\n",
              "  }\n",
              "\n",
              "  .colab-df-quickchart-complete:disabled,\n",
              "  .colab-df-quickchart-complete:disabled:hover {\n",
              "    background-color: var(--disabled-bg-color);\n",
              "    fill: var(--disabled-fill-color);\n",
              "    box-shadow: none;\n",
              "  }\n",
              "\n",
              "  .colab-df-spinner {\n",
              "    border: 2px solid var(--fill-color);\n",
              "    border-color: transparent;\n",
              "    border-bottom-color: var(--fill-color);\n",
              "    animation:\n",
              "      spin 1s steps(1) infinite;\n",
              "  }\n",
              "\n",
              "  @keyframes spin {\n",
              "    0% {\n",
              "      border-color: transparent;\n",
              "      border-bottom-color: var(--fill-color);\n",
              "      border-left-color: var(--fill-color);\n",
              "    }\n",
              "    20% {\n",
              "      border-color: transparent;\n",
              "      border-left-color: var(--fill-color);\n",
              "      border-top-color: var(--fill-color);\n",
              "    }\n",
              "    30% {\n",
              "      border-color: transparent;\n",
              "      border-left-color: var(--fill-color);\n",
              "      border-top-color: var(--fill-color);\n",
              "      border-right-color: var(--fill-color);\n",
              "    }\n",
              "    40% {\n",
              "      border-color: transparent;\n",
              "      border-right-color: var(--fill-color);\n",
              "      border-top-color: var(--fill-color);\n",
              "    }\n",
              "    60% {\n",
              "      border-color: transparent;\n",
              "      border-right-color: var(--fill-color);\n",
              "    }\n",
              "    80% {\n",
              "      border-color: transparent;\n",
              "      border-right-color: var(--fill-color);\n",
              "      border-bottom-color: var(--fill-color);\n",
              "    }\n",
              "    90% {\n",
              "      border-color: transparent;\n",
              "      border-bottom-color: var(--fill-color);\n",
              "    }\n",
              "  }\n",
              "</style>\n",
              "\n",
              "  <script>\n",
              "    async function quickchart(key) {\n",
              "      const quickchartButtonEl =\n",
              "        document.querySelector('#' + key + ' button');\n",
              "      quickchartButtonEl.disabled = true;  // To prevent multiple clicks.\n",
              "      quickchartButtonEl.classList.add('colab-df-spinner');\n",
              "      try {\n",
              "        const charts = await google.colab.kernel.invokeFunction(\n",
              "            'suggestCharts', [key], {});\n",
              "      } catch (error) {\n",
              "        console.error('Error during call to suggestCharts:', error);\n",
              "      }\n",
              "      quickchartButtonEl.classList.remove('colab-df-spinner');\n",
              "      quickchartButtonEl.classList.add('colab-df-quickchart-complete');\n",
              "    }\n",
              "    (() => {\n",
              "      let quickchartButtonEl =\n",
              "        document.querySelector('#df-ccb27b43-9568-4ff3-98ff-a1f859e3416e button');\n",
              "      quickchartButtonEl.style.display =\n",
              "        google.colab.kernel.accessAllowed ? 'block' : 'none';\n",
              "    })();\n",
              "  </script>\n",
              "</div>\n",
              "\n",
              "    </div>\n",
              "  </div>\n"
            ],
            "application/vnd.google.colaboratory.intrinsic+json": {
              "type": "dataframe",
              "variable_name": "data",
              "summary": "{\n  \"name\": \"data\",\n  \"rows\": 120,\n  \"fields\": [\n    {\n      \"column\": \"obs\",\n      \"properties\": {\n        \"dtype\": \"number\",\n        \"std\": 2,\n        \"min\": 0,\n        \"max\": 10,\n        \"num_unique_values\": 10,\n        \"samples\": [\n          6,\n          3,\n          10\n        ],\n        \"semantic_type\": \"\",\n        \"description\": \"\"\n      }\n    }\n  ]\n}"
            }
          },
          "metadata": {},
          "execution_count": 7
        }
      ]
    },
    {
      "cell_type": "code",
      "source": [
        "expected_scratches = data['obs'].mean()\n",
        "\n",
        "# Display the expected number of scratches\n",
        "print(f\"The expected number of scratches on a car is: {expected_scratches}\")"
      ],
      "metadata": {
        "colab": {
          "base_uri": "https://localhost:8080/"
        },
        "id": "ThU3S9nzdpBQ",
        "outputId": "2bb78bcc-9dab-4b08-df57-48626ab5e51f"
      },
      "execution_count": 8,
      "outputs": [
        {
          "output_type": "stream",
          "name": "stdout",
          "text": [
            "The expected number of scratches on a car is: 3.841666666666667\n"
          ]
        }
      ]
    },
    {
      "cell_type": "code",
      "source": [
        "import pandas as pd\n",
        "import matplotlib.pyplot as plt\n",
        "import seaborn as sns\n",
        "\n",
        "# Load the data from the Excel file\n",
        "file_path = '/content/GOF.xlsx'\n",
        "data = pd.read_excel(file_path, engine='openpyxl')\n",
        "\n",
        "# Assuming the column is named 'obs'\n",
        "column_name = 'obs'  # Adjust if needed\n",
        "\n",
        "# Calculate descriptive statistics\n",
        "mean_value = data[column_name].mean()\n",
        "median_value = data[column_name].median()\n",
        "mode_value = data[column_name].mode()[0]\n",
        "\n",
        "# Print the descriptive statistics\n",
        "print(f\"Mean: {mean_value}\")\n",
        "print(f\"Median: {median_value}\")\n",
        "print(f\"Mode: {mode_value}\")\n",
        "\n",
        "# Visualize the distribution using a histogram and kernel density estimate (KDE)\n",
        "plt.figure(figsize=(10, 6))\n",
        "sns.histplot(data[column_name], kde=True, bins=20, color='skyblue')\n",
        "\n",
        "# Display the plot\n",
        "plt.title(f'Distribution of {column_name}')\n",
        "plt.xlabel(f'{column_name} value')\n",
        "plt.ylabel('Frequency')\n",
        "plt.show()\n",
        "\n",
        "# Determine the type of distribution based on the relationship between mean, median, and mode\n",
        "if mean_value > median_value > mode_value:\n",
        "    distribution = \"Right skewed distribution as the mean > median > mode\"\n",
        "elif mode_value > median_value > mean_value:\n",
        "    distribution = \"Left skewed distribution as the mode > median > mean\"\n",
        "elif mean_value == median_value == mode_value:\n",
        "    distribution = \"Symmetric distribution\"\n",
        "else:\n",
        "    distribution = \"None of the above\"\n",
        "\n",
        "# Print the inferred distribution type\n",
        "print(\"Inferred distribution type:\", distribution)\n"
      ],
      "metadata": {
        "colab": {
          "base_uri": "https://localhost:8080/",
          "height": 581
        },
        "id": "M_uuVqBbe1j_",
        "outputId": "9d6878e6-e8d3-4a48-b223-5a7665eff6c0"
      },
      "execution_count": 9,
      "outputs": [
        {
          "output_type": "stream",
          "name": "stdout",
          "text": [
            "Mean: 3.841666666666667\n",
            "Median: 3.0\n",
            "Mode: 3\n"
          ]
        },
        {
          "output_type": "display_data",
          "data": {
            "text/plain": [
              "<Figure size 1000x600 with 1 Axes>"
            ],
            "image/png": "[encoded data removed]"
          },
          "metadata": {}
        },
        {
          "output_type": "stream",
          "name": "stdout",
          "text": [
            "Inferred distribution type: None of the above\n"
          ]
        }
      ]
    },
    {
      "cell_type": "code",
      "source": [
        "import pandas as pd\n",
        "import numpy as np\n",
        "import scipy.stats as stats\n",
        "import matplotlib.pyplot as plt\n",
        "\n",
        "# Load the data from the Excel file\n",
        "file_path = '/content/GOF.xlsx'\n",
        "data = pd.read_excel(file_path, engine='openpyxl')\n",
        "\n",
        "# Assuming the column is named 'obs'\n",
        "column_name = 'obs'  # Adjust if needed\n",
        "\n",
        "# Calculate descriptive statistics\n",
        "mean_value = data[column_name].mean()\n",
        "\n",
        "# Step 1: Create bins for the Chi-Square test\n",
        "# We'll use bins from 0 to the max value in 'obs' for the test\n",
        "bins = np.arange(0, data[column_name].max() + 2)  # Adding 2 to include the max value\n",
        "\n",
        "# Step 2: Calculate observed frequencies (O)\n",
        "observed_freq, bin_edges = np.histogram(data[column_name], bins=bins)\n",
        "\n",
        "# Step 3: Calculate expected frequencies (E) assuming a Poisson distribution\n",
        "expected_freq = []\n",
        "for i in range(len(bins) - 1):\n",
        "    # Poisson PMF: P(X = k) = (lambda^k * exp(-lambda)) / k!\n",
        "    expected_freq.append(stats.poisson.pmf(i, mean_value) * len(data))\n",
        "\n",
        "# Step 4: Scale the expected frequencies to ensure the total sum matches observed frequencies\n",
        "expected_sum = sum(expected_freq)\n",
        "observed_sum = sum(observed_freq)\n",
        "\n",
        "# Scale the expected frequencies to match the observed sum\n",
        "scaled_expected_freq = [e * (observed_sum / expected_sum) for e in expected_freq]\n",
        "\n",
        "# Step 5: Perform Chi-Square Test (Observed vs Expected)\n",
        "chi2_stat, p_value = stats.chisquare(observed_freq, scaled_expected_freq)\n",
        "\n",
        "# Print the Chi-Square statistic and p-value\n",
        "print(f\"Chi-Square Statistic: {chi2_stat}\")\n",
        "print(f\"P-value: {p_value}\")\n",
        "\n",
        "# Step 6: Calculate the probability of observing exactly 3 defects\n",
        "# For Poisson distribution, use the PMF\n",
        "prob_3_defects = stats.poisson.pmf(3, mean_value)\n",
        "print(f\"Probability of observing exactly 3 defects: {prob_3_defects}\")\n",
        "\n",
        "# Plot the histogram and expected Poisson distribution\n",
        "plt.figure(figsize=(10, 6))\n",
        "plt.hist(data[column_name], bins=bins, alpha=0.6, color='skyblue', label='Observed Frequencies')\n",
        "plt.plot(bins[:-1], scaled_expected_freq, 'ro-', label='Expected Poisson Frequencies')\n",
        "plt.title('Chi-Square Goodness of Fit: Observed vs Expected Frequencies')\n",
        "plt.xlabel('Number of Defects (obs)')\n",
        "plt.ylabel('Frequency')\n",
        "plt.legend()\n",
        "plt.show()\n"
      ],
      "metadata": {
        "colab": {
          "base_uri": "https://localhost:8080/",
          "height": 563
        },
        "id": "4Rzmetbxfp6e",
        "outputId": "ffc26c8b-5bea-4f6a-a7cd-d79046167e62"
      },
      "execution_count": 11,
      "outputs": [
        {
          "output_type": "stream",
          "name": "stdout",
          "text": [
            "Chi-Square Statistic: 27.621902375802875\n",
            "P-value: 0.002074619027094274\n",
            "Probability of observing exactly 3 defects: 0.2027650751720814\n"
          ]
        },
        {
          "output_type": "display_data",
          "data": {
            "text/plain": [
              "<Figure size 1000x600 with 1 Axes>"
            ],
            "image/png": "[encoded data removed]"
          },
          "metadata": {}
        }
      ]
    },
    {
      "cell_type": "code",
      "source": [
        "import pandas as pd\n",
        "import numpy as np\n",
        "import scipy.stats as stats\n",
        "import matplotlib.pyplot as plt\n",
        "\n",
        "# Load the data from the Excel file\n",
        "file_path = '/content/GOF.xlsx'\n",
        "data = pd.read_excel(file_path, engine='openpyxl')\n",
        "\n",
        "# Assuming the column is named 'obs'\n",
        "column_name = 'obs'  # Adjust if needed\n",
        "\n",
        "# Calculate descriptive statistics (mean) for the \"obs\" column\n",
        "mean_value = data[column_name].mean()\n",
        "\n",
        "# Step 1: Create bins for the Chi-Square test\n",
        "# We'll use bins from 0 to the max value in 'obs' for the test\n",
        "bins = np.arange(0, data[column_name].max() + 2)  # Adding 2 to include the max value\n",
        "\n",
        "# Step 2: Calculate observed frequencies (O)\n",
        "observed_freq, bin_edges = np.histogram(data[column_name], bins=bins)\n",
        "\n",
        "# Step 3: Calculate expected frequencies (E) assuming a Poisson distribution\n",
        "expected_freq = []\n",
        "for i in range(len(bins) - 1):\n",
        "    # Poisson PMF: P(X = k) = (lambda^k * exp(-lambda)) / k!\n",
        "    expected_freq.append(stats.poisson.pmf(i, mean_value) * len(data))\n",
        "\n",
        "# Step 4: Scale the expected frequencies to ensure the total sum matches observed frequencies\n",
        "expected_sum = sum(expected_freq)\n",
        "observed_sum = sum(observed_freq)\n",
        "\n",
        "# Scale the expected frequencies to match the observed sum\n",
        "scaled_expected_freq = [e * (observed_sum / expected_sum) for e in expected_freq]\n",
        "\n",
        "# Step 5: Perform Chi-Square Test (Observed vs Expected)\n",
        "chi2_stat, p_value = stats.chisquare(observed_freq, scaled_expected_freq)\n",
        "\n",
        "# Print the Chi-Square statistic and p-value\n",
        "print(f\"Chi-Square Statistic: {chi2_stat}\")\n",
        "print(f\"P-value: {p_value}\")\n",
        "\n",
        "# Calculate the degrees of freedom\n",
        "# df = number of bins - 1 - number of parameters estimated (mean for Poisson = 1)\n",
        "df = len(bins) - 1 - 1\n",
        "print(f\"Degrees of Freedom (df): {df}\")\n"
      ],
      "metadata": {
        "colab": {
          "base_uri": "https://localhost:8080/"
        },
        "id": "y0gKQaLlgRLm",
        "outputId": "548c4ecc-72f7-434f-e165-7ad80df286cd"
      },
      "execution_count": 13,
      "outputs": [
        {
          "output_type": "stream",
          "name": "stdout",
          "text": [
            "Chi-Square Statistic: 27.621902375802875\n",
            "P-value: 0.002074619027094274\n",
            "Degrees of Freedom (df): 10\n"
          ]
        }
      ]
    },
    {
      "cell_type": "code",
      "source": [
        "import pandas as pd\n",
        "import numpy as np\n",
        "\n",
        "# Load the data from the Excel file\n",
        "file_path = '/content/GOF.xlsx'  # Replace with the correct path if needed\n",
        "data = pd.read_excel(file_path, engine='openpyxl')\n",
        "\n",
        "# Assuming the column is named 'obs'\n",
        "column_name = 'obs'  # Adjust if needed\n",
        "\n",
        "# Step 1: Create bins for the Chi-Square test\n",
        "# We'll use bins from 0 to the max value in 'obs' for the test\n",
        "bins = np.arange(0, data[column_name].max() + 2)  # Adding 2 to include the max value\n",
        "\n",
        "# Step 2: Number of bins (k)\n",
        "k = len(bins) - 1  # Number of bins\n",
        "\n",
        "# Step 3: Number of parameters estimated (p)\n",
        "# For Poisson distribution, we estimate the mean, so p = 1\n",
        "p = 1\n",
        "\n",
        "# Step 4: Calculate degrees of freedom (df)\n",
        "df = k - 1 - p\n",
        "\n",
        "# Print the degrees of freedom\n",
        "print(f\"Degrees of Freedom (df): {df}\")\n"
      ],
      "metadata": {
        "colab": {
          "base_uri": "https://localhost:8080/"
        },
        "id": "CVfiq2sMhd5M",
        "outputId": "41e71e58-593c-4da6-d0e4-17571e233330"
      },
      "execution_count": 14,
      "outputs": [
        {
          "output_type": "stream",
          "name": "stdout",
          "text": [
            "Degrees of Freedom (df): 9\n"
          ]
        }
      ]
    },
    {
      "cell_type": "code",
      "source": [
        "import pandas as pd\n",
        "import requests\n",
        "\n",
        "# URL of the file on Google Drive (direct download link)\n",
        "file_url = 'https://drive.google.com/uc?id=1H1Twoqnwd5mWcs1jFynyS9WadaXK3io1'\n",
        "\n",
        "# Download the file\n",
        "r = requests.get(file_url)\n",
        "with open('/content/iitm_onlineDegree.csv', 'wb') as f:\n",
        "    f.write(r.content)\n",
        "\n",
        "# Load the data from the downloaded CSV file\n",
        "data = pd.read_csv('/content/iitm_onlineDegree.csv')\n",
        "\n",
        "# Show the first few rows of the data to verify it's loaded correctly\n",
        "data.head()\n"
      ],
      "metadata": {
        "colab": {
          "base_uri": "https://localhost:8080/",
          "height": 204
        },
        "id": "NAUTdcMkipeR",
        "outputId": "2f80d55e-7091-41e0-bfa0-05b3359c2ced"
      },
      "execution_count": 15,
      "outputs": [
        {
          "output_type": "execute_result",
          "data": {
            "text/plain": [
              "   Gender   Preference\n",
              "0  Female     Business\n",
              "1  Female  Programming\n",
              "2    Male     Business\n",
              "3  Female   Statistics\n",
              "4  Female  Programming"
            ],
            "text/html": [
              "\n",
              "  <div id=\"df-adbb6972-6413-4e11-b49a-1ee49bd32675\" class=\"colab-df-container\">\n",
              "    <div>\n",
              "<style scoped>\n",
              "    .dataframe tbody tr th:only-of-type {\n",
              "        vertical-align: middle;\n",
              "    }\n",
              "\n",
              "    .dataframe tbody tr th {\n",
              "        vertical-align: top;\n",
              "    }\n",
              "\n",
              "    .dataframe thead th {\n",
              "        text-align: right;\n",
              "    }\n",
              "</style>\n",
              "<table border=\"1\" class=\"dataframe\">\n",
              "  <thead>\n",
              "    <tr style=\"text-align: right;\">\n",
              "      <th></th>\n",
              "      <th>Gender</th>\n",
              "      <th>Preference</th>\n",
              "    </tr>\n",
              "  </thead>\n",
              "  <tbody>\n",
              "    <tr>\n",
              "      <th>0</th>\n",
              "      <td>Female</td>\n",
              "      <td>Business</td>\n",
              "    </tr>\n",
              "    <tr>\n",
              "      <th>1</th>\n",
              "      <td>Female</td>\n",
              "      <td>Programming</td>\n",
              "    </tr>\n",
              "    <tr>\n",
              "      <th>2</th>\n",
              "      <td>Male</td>\n",
              "      <td>Business</td>\n",
              "    </tr>\n",
              "    <tr>\n",
              "      <th>3</th>\n",
              "      <td>Female</td>\n",
              "      <td>Statistics</td>\n",
              "    </tr>\n",
              "    <tr>\n",
              "      <th>4</th>\n",
              "      <td>Female</td>\n",
              "      <td>Programming</td>\n",
              "    </tr>\n",
              "  </tbody>\n",
              "</table>\n",
              "</div>\n",
              "    <div class=\"colab-df-buttons\">\n",
              "\n",
              "  <div class=\"colab-df-container\">\n",
              "    <button class=\"colab-df-convert\" onclick=\"convertToInteractive('df-adbb6972-6413-4e11-b49a-1ee49bd32675')\"\n",
              "            title=\"Convert this dataframe to an interactive table.\"\n",
              "            style=\"display:none;\">\n",
              "\n",
              "  <svg xmlns=\"http://www.w3.org/2000/svg\" height=\"24px\" viewBox=\"0 -960 960 960\">\n",
              "    <path d=\"M120-120v-720h720v720H120Zm60-500h600v-160H180v160Zm220 220h160v-160H400v160Zm0 220h160v-160H400v160ZM180-400h160v-160H180v160Zm440 0h160v-160H620v160ZM180-180h160v-160H180v160Zm440 0h160v-160H620v160Z\"/>\n",
              "  </svg>\n",
              "    </button>\n",
              "\n",
              "  <style>\n",
              "    .colab-df-container {\n",
              "      display:flex;\n",
              "      gap: 12px;\n",
              "    }\n",
              "\n",
              "    .colab-df-convert {\n",
              "      background-color: #E8F0FE;\n",
              "      border: none;\n",
              "      border-radius: 50%;\n",
              "      cursor: pointer;\n",
              "      display: none;\n",
              "      fill: #1967D2;\n",
              "      height: 32px;\n",
              "      padding: 0 0 0 0;\n",
              "      width: 32px;\n",
              "    }\n",
              "\n",
              "    .colab-df-convert:hover {\n",
              "      background-color: #E2EBFA;\n",
              "      box-shadow: 0px 1px 2px rgba(60, 64, 67, 0.3), 0px 1px 3px 1px rgba(60, 64, 67, 0.15);\n",
              "      fill: #174EA6;\n",
              "    }\n",
              "\n",
              "    .colab-df-buttons div {\n",
              "      margin-bottom: 4px;\n",
              "    }\n",
              "\n",
              "    [theme=dark] .colab-df-convert {\n",
              "      background-color: #3B4455;\n",
              "      fill: #D2E3FC;\n",
              "    }\n",
              "\n",
              "    [theme=dark] .colab-df-convert:hover {\n",
              "      background-color: #434B5C;\n",
              "      box-shadow: 0px 1px 3px 1px rgba(0, 0, 0, 0.15);\n",
              "      filter: drop-shadow(0px 1px 2px rgba(0, 0, 0, 0.3));\n",
              "      fill: #FFFFFF;\n",
              "    }\n",
              "  </style>\n",
              "\n",
              "    <script>\n",
              "      const buttonEl =\n",
              "        document.querySelector('#df-adbb6972-6413-4e11-b49a-1ee49bd32675 button.colab-df-convert');\n",
              "      buttonEl.style.display =\n",
              "        google.colab.kernel.accessAllowed ? 'block' : 'none';\n",
              "\n",
              "      async function convertToInteractive(key) {\n",
              "        const element = document.querySelector('#df-adbb6972-6413-4e11-b49a-1ee49bd32675');\n",
              "        const dataTable =\n",
              "          await google.colab.kernel.invokeFunction('convertToInteractive',\n",
              "                                                    [key], {});\n",
              "        if (!dataTable) return;\n",
              "\n",
              "        const docLinkHtml = 'Like what you see? Visit the ' +\n",
              "          '<a target=\"_blank\" href=https://colab.research.google.com/notebooks/data_table.ipynb>data table notebook</a>'\n",
              "          + ' to learn more about interactive tables.';\n",
              "        element.innerHTML = '';\n",
              "        dataTable['output_type'] = 'display_data';\n",
              "        await google.colab.output.renderOutput(dataTable, element);\n",
              "        const docLink = document.createElement('div');\n",
              "        docLink.innerHTML = docLinkHtml;\n",
              "        element.appendChild(docLink);\n",
              "      }\n",
              "    </script>\n",
              "  </div>\n",
              "\n",
              "\n",
              "<div id=\"df-4de237c2-910f-45b4-b972-48f16ed2b53d\">\n",
              "  <button class=\"colab-df-quickchart\" onclick=\"quickchart('df-4de237c2-910f-45b4-b972-48f16ed2b53d')\"\n",
              "            title=\"Suggest charts\"\n",
              "            style=\"display:none;\">\n",
              "\n",
              "<svg xmlns=\"http://www.w3.org/2000/svg\" height=\"24px\"viewBox=\"0 0 24 24\"\n",
              "     width=\"24px\">\n",
              "    <g>\n",
              "        <path d=\"M19 3H5c-1.1 0-2 .9-2 2v14c0 1.1.9 2 2 2h14c1.1 0 2-.9 2-2V5c0-1.1-.9-2-2-2zM9 17H7v-7h2v7zm4 0h-2V7h2v10zm4 0h-2v-4h2v4z\"/>\n",
              "    </g>\n",
              "</svg>\n",
              "  </button>\n",
              "\n",
              "<style>\n",
              "  .colab-df-quickchart {\n",
              "      --bg-color: #E8F0FE;\n",
              "      --fill-color: #1967D2;\n",
              "      --hover-bg-color: #E2EBFA;\n",
              "      --hover-fill-color: #174EA6;\n",
              "      --disabled-fill-color: #AAA;\n",
              "      --disabled-bg-color: #DDD;\n",
              "  }\n",
              "\n",
              "  [theme=dark] .colab-df-quickchart {\n",
              "      --bg-color: #3B4455;\n",
              "      --fill-color: #D2E3FC;\n",
              "      --hover-bg-color: #434B5C;\n",
              "      --hover-fill-color: #FFFFFF;\n",
              "      --disabled-bg-color: #3B4455;\n",
              "      --disabled-fill-color: #666;\n",
              "  }\n",
              "\n",
              "  .colab-df-quickchart {\n",
              "    background-color: var(--bg-color);\n",
              "    border: none;\n",
              "    border-radius: 50%;\n",
              "    cursor: pointer;\n",
              "    display: none;\n",
              "    fill: var(--fill-color);\n",
              "    height: 32px;\n",
              "    padding: 0;\n",
              "    width: 32px;\n",
              "  }\n",
              "\n",
              "  .colab-df-quickchart:hover {\n",
              "    background-color: var(--hover-bg-color);\n",
              "    box-shadow: 0 1px 2px rgba(60, 64, 67, 0.3), 0 1px 3px 1px rgba(60, 64, 67, 0.15);\n",
              "    fill: var(--button-hover-fill-color);\n",
              "  }\n",
              "\n",
              "  .colab-df-quickchart-complete:disabled,\n",
              "  .colab-df-quickchart-complete:disabled:hover {\n",
              "    background-color: var(--disabled-bg-color);\n",
              "    fill: var(--disabled-fill-color);\n",
              "    box-shadow: none;\n",
              "  }\n",
              "\n",
              "  .colab-df-spinner {\n",
              "    border: 2px solid var(--fill-color);\n",
              "    border-color: transparent;\n",
              "    border-bottom-color: var(--fill-color);\n",
              "    animation:\n",
              "      spin 1s steps(1) infinite;\n",
              "  }\n",
              "\n",
              "  @keyframes spin {\n",
              "    0% {\n",
              "      border-color: transparent;\n",
              "      border-bottom-color: var(--fill-color);\n",
              "      border-left-color: var(--fill-color);\n",
              "    }\n",
              "    20% {\n",
              "      border-color: transparent;\n",
              "      border-left-color: var(--fill-color);\n",
              "      border-top-color: var(--fill-color);\n",
              "    }\n",
              "    30% {\n",
              "      border-color: transparent;\n",
              "      border-left-color: var(--fill-color);\n",
              "      border-top-color: var(--fill-color);\n",
              "      border-right-color: var(--fill-color);\n",
              "    }\n",
              "    40% {\n",
              "      border-color: transparent;\n",
              "      border-right-color: var(--fill-color);\n",
              "      border-top-color: var(--fill-color);\n",
              "    }\n",
              "    60% {\n",
              "      border-color: transparent;\n",
              "      border-right-color: var(--fill-color);\n",
              "    }\n",
              "    80% {\n",
              "      border-color: transparent;\n",
              "      border-right-color: var(--fill-color);\n",
              "      border-bottom-color: var(--fill-color);\n",
              "    }\n",
              "    90% {\n",
              "      border-color: transparent;\n",
              "      border-bottom-color: var(--fill-color);\n",
              "    }\n",
              "  }\n",
              "</style>\n",
              "\n",
              "  <script>\n",
              "    async function quickchart(key) {\n",
              "      const quickchartButtonEl =\n",
              "        document.querySelector('#' + key + ' button');\n",
              "      quickchartButtonEl.disabled = true;  // To prevent multiple clicks.\n",
              "      quickchartButtonEl.classList.add('colab-df-spinner');\n",
              "      try {\n",
              "        const charts = await google.colab.kernel.invokeFunction(\n",
              "            'suggestCharts', [key], {});\n",
              "      } catch (error) {\n",
              "        console.error('Error during call to suggestCharts:', error);\n",
              "      }\n",
              "      quickchartButtonEl.classList.remove('colab-df-spinner');\n",
              "      quickchartButtonEl.classList.add('colab-df-quickchart-complete');\n",
              "    }\n",
              "    (() => {\n",
              "      let quickchartButtonEl =\n",
              "        document.querySelector('#df-4de237c2-910f-45b4-b972-48f16ed2b53d button');\n",
              "      quickchartButtonEl.style.display =\n",
              "        google.colab.kernel.accessAllowed ? 'block' : 'none';\n",
              "    })();\n",
              "  </script>\n",
              "</div>\n",
              "\n",
              "    </div>\n",
              "  </div>\n"
            ],
            "application/vnd.google.colaboratory.intrinsic+json": {
              "type": "dataframe",
              "variable_name": "data",
              "summary": "{\n  \"name\": \"data\",\n  \"rows\": 732,\n  \"fields\": [\n    {\n      \"column\": \"Gender\",\n      \"properties\": {\n        \"dtype\": \"category\",\n        \"num_unique_values\": 2,\n        \"samples\": [\n          \"Male\",\n          \"Female\"\n        ],\n        \"semantic_type\": \"\",\n        \"description\": \"\"\n      }\n    },\n    {\n      \"column\": \"Preference\",\n      \"properties\": {\n        \"dtype\": \"category\",\n        \"num_unique_values\": 3,\n        \"samples\": [\n          \"Business\",\n          \"Programming\"\n        ],\n        \"semantic_type\": \"\",\n        \"description\": \"\"\n      }\n    }\n  ]\n}"
            }
          },
          "metadata": {},
          "execution_count": 15
        }
      ]
    },
    {
      "cell_type": "code",
      "source": [
        "import pandas as pd\n",
        "import scipy.stats as stats\n",
        "\n",
        "# Load the data from the CSV file\n",
        "data = pd.read_csv('/content/iitm_onlineDegree.csv')\n",
        "\n",
        "# Clean the column names by stripping any leading/trailing spaces\n",
        "data.columns = data.columns.str.strip()\n",
        "\n",
        "# Create a contingency table using the 'Gender' and 'Preference' columns\n",
        "contingency_table = pd.crosstab(data['Gender'], data['Preference'])\n",
        "\n",
        "# Perform the Chi-Square test for independence\n",
        "chi2_stat, p_value, dof, expected = stats.chi2_contingency(contingency_table)\n",
        "\n",
        "# Print the degrees of freedom\n",
        "print(f\"Degrees of Freedom (df): {dof}\")\n"
      ],
      "metadata": {
        "colab": {
          "base_uri": "https://localhost:8080/"
        },
        "id": "CbC4aCySj5lb",
        "outputId": "d57b9b7c-4505-4602-d18a-2c7a09dc83d2"
      },
      "execution_count": 19,
      "outputs": [
        {
          "output_type": "stream",
          "name": "stdout",
          "text": [
            "Degrees of Freedom (df): 2\n"
          ]
        }
      ]
    },
    {
      "cell_type": "code",
      "source": [
        "import pandas as pd\n",
        "import scipy.stats as stats\n",
        "\n",
        "# Load the data from the CSV file\n",
        "data = pd.read_csv('/content/iitm_onlineDegree.csv')\n",
        "\n",
        "# Clean the column names by stripping any leading/trailing spaces\n",
        "data.columns = data.columns.str.strip()\n",
        "\n",
        "# Create a contingency table using the 'Gender' and 'Preference' columns\n",
        "contingency_table = pd.crosstab(data['Gender'], data['Preference'])\n",
        "\n",
        "# Perform the Chi-Square test for independence\n",
        "chi2_stat, p_value, dof, expected = stats.chi2_contingency(contingency_table)\n",
        "\n",
        "# Print the contingency table and expected values\n",
        "print(\"Contingency Table:\\n\", contingency_table)\n",
        "print(\"\\nExpected Values:\\n\", expected)\n",
        "\n",
        "# Find the expected value for Female in Business subjects\n",
        "# Find the index of 'Female' and 'Business' in the contingency table\n",
        "# The expected value is at the position (Female, Business) in the expected array\n",
        "female_index = list(contingency_table.index).index('Female')\n",
        "business_index = list(contingency_table.columns).index('Business')\n",
        "\n",
        "# Extract the expected value for Female in Business subjects\n",
        "expected_value_female_business = expected[female_index, business_index]\n",
        "\n",
        "print(f\"\\nExpected value for Female in Business subjects: {expected_value_female_business}\")\n"
      ],
      "metadata": {
        "colab": {
          "base_uri": "https://localhost:8080/"
        },
        "id": "JvU6UhgKkHBH",
        "outputId": "0c89d2f8-04b1-4696-a50d-f7455b7beb51"
      },
      "execution_count": 20,
      "outputs": [
        {
          "output_type": "stream",
          "name": "stdout",
          "text": [
            "Contingency Table:\n",
            " Preference  Business  Programming  Statistics\n",
            "Gender                                       \n",
            "Female           175           58         200\n",
            "Male             139           36         124\n",
            "\n",
            "Expected Values:\n",
            " [[185.74043716  55.60382514 191.6557377 ]\n",
            " [128.25956284  38.39617486 132.3442623 ]]\n",
            "\n",
            "Expected value for Female in Business subjects: 185.74043715846994\n"
          ]
        }
      ]
    },
    {
      "cell_type": "code",
      "source": [
        "import pandas as pd\n",
        "import scipy.stats as stats\n",
        "\n",
        "# Load the data from the CSV file\n",
        "data = pd.read_csv('/content/iitm_onlineDegree.csv')\n",
        "\n",
        "# Clean the column names by stripping any leading/trailing spaces\n",
        "data.columns = data.columns.str.strip()\n",
        "\n",
        "# Create a contingency table using the 'Gender' and 'Preference' columns\n",
        "contingency_table = pd.crosstab(data['Gender'], data['Preference'])\n",
        "\n",
        "# Perform the Chi-Square test for independence\n",
        "chi2_stat, p_value, dof, expected = stats.chi2_contingency(contingency_table)\n",
        "\n",
        "# Print the calculated Chi-Square statistic rounded to two decimals\n",
        "print(f\"Chi-Square Statistic: {round(chi2_stat, 2)}\")\n"
      ],
      "metadata": {
        "colab": {
          "base_uri": "https://localhost:8080/"
        },
        "id": "ZfSX_BYHkVWl",
        "outputId": "76501ce3-17e7-493b-e31e-e4cb44024c77"
      },
      "execution_count": 21,
      "outputs": [
        {
          "output_type": "stream",
          "name": "stdout",
          "text": [
            "Chi-Square Statistic: 2.66\n"
          ]
        }
      ]
    },
    {
      "cell_type": "code",
      "source": [
        "import pandas as pd\n",
        "import scipy.stats as stats\n",
        "\n",
        "# Load the data from the CSV file\n",
        "data = pd.read_csv('/content/iitm_onlineDegree.csv')\n",
        "\n",
        "# Clean the column names by stripping any leading/trailing spaces\n",
        "data.columns = data.columns.str.strip()\n",
        "\n",
        "# Create a contingency table using the 'Gender' and 'Preference' columns\n",
        "contingency_table = pd.crosstab(data['Gender'], data['Preference'])\n",
        "\n",
        "# Perform the Chi-Square test for independence\n",
        "chi2_stat, p_value, dof, expected = stats.chi2_contingency(contingency_table)\n",
        "\n",
        "# Set the significance level (α), typically 0.05 for 95% confidence\n",
        "alpha = 0.05\n",
        "\n",
        "# Calculate the tabulated (critical) value for Chi-Square at the given significance level\n",
        "tabulated_value = stats.chi2.ppf(1 - alpha, dof)\n",
        "\n",
        "# Print the tabulated value rounded to two decimals\n",
        "print(f\"Tabulated Chi-Square Statistic: {round(tabulated_value, 2)}\")\n"
      ],
      "metadata": {
        "colab": {
          "base_uri": "https://localhost:8080/"
        },
        "id": "arJt0qdckjqc",
        "outputId": "f0f441df-083e-4892-80d2-49f377d8528a"
      },
      "execution_count": 22,
      "outputs": [
        {
          "output_type": "stream",
          "name": "stdout",
          "text": [
            "Tabulated Chi-Square Statistic: 5.99\n"
          ]
        }
      ]
    },
    {
      "cell_type": "code",
      "source": [
        "import pandas as pd\n",
        "import scipy.stats as stats\n",
        "\n",
        "# Load the data from the CSV file\n",
        "data = pd.read_csv('/content/iitm_onlineDegree.csv')\n",
        "\n",
        "# Clean the column names by stripping any leading/trailing spaces\n",
        "data.columns = data.columns.str.strip()\n",
        "\n",
        "# Create a contingency table using the 'Gender' and 'Preference' columns\n",
        "contingency_table = pd.crosstab(data['Gender'], data['Preference'])\n",
        "\n",
        "# Perform the Chi-Square test for independence\n",
        "chi2_stat, p_value, dof, expected = stats.chi2_contingency(contingency_table)\n",
        "\n",
        "# Print the p-value rounded to two decimals\n",
        "print(f\"P-value: {round(p_value, 4)}\")\n"
      ],
      "metadata": {
        "colab": {
          "base_uri": "https://localhost:8080/"
        },
        "id": "VVM-IQkpku0D",
        "outputId": "b34160ef-3376-426b-90d5-fa34c94e49d7"
      },
      "execution_count": 24,
      "outputs": [
        {
          "output_type": "stream",
          "name": "stdout",
          "text": [
            "P-value: 0.2641\n"
          ]
        }
      ]
    },
    {
      "cell_type": "code",
      "source": [
        "import pandas as pd\n",
        "import scipy.stats as stats\n",
        "\n",
        "# Load the data from the CSV file\n",
        "data = pd.read_csv('/content/iitm_onlineDegree.csv')\n",
        "\n",
        "# Clean the column names by stripping any leading/trailing spaces\n",
        "data.columns = data.columns.str.strip()\n",
        "\n",
        "# Create a contingency table using the 'Gender' and 'Preference' columns\n",
        "contingency_table = pd.crosstab(data['Gender'], data['Preference'])\n",
        "\n",
        "# Perform the Chi-Square test for independence\n",
        "chi2_stat, p_value, dof, expected = stats.chi2_contingency(contingency_table)\n",
        "\n",
        "# Set significance level\n",
        "alpha = 0.05\n",
        "\n",
        "# Determine the conclusion based on the p-value\n",
        "if p_value < alpha:\n",
        "    conclusion = \"Reject the null hypothesis and conclude that the categorical variables are not independent\"\n",
        "else:\n",
        "    conclusion = \"Fail to reject the null hypothesis and conclude that the categorical variables are independent\"\n",
        "\n",
        "# Print the conclusion\n",
        "print(f\"Conclusion: {conclusion}\")\n"
      ],
      "metadata": {
        "colab": {
          "base_uri": "https://localhost:8080/"
        },
        "id": "WA0AICRhlNgT",
        "outputId": "3ff0457c-98f1-46fa-ed62-7bbb4028816f"
      },
      "execution_count": 25,
      "outputs": [
        {
          "output_type": "stream",
          "name": "stdout",
          "text": [
            "Conclusion: Fail to reject the null hypothesis and conclude that the categorical variables are independent\n"
          ]
        }
      ]
    }
  ]
}